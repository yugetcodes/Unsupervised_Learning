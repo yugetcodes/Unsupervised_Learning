{
 "cells": [
  {
   "cell_type": "code",
   "execution_count": 1,
   "id": "cd850c07-3335-4120-8e26-27226b13d253",
   "metadata": {},
   "outputs": [],
   "source": [
    "import pandas as pd\n",
    "from sklearn.model_selection import train_test_split\n",
    "from sklearn.feature_extraction.text import TfidfVectorizer\n",
    "from sklearn.naive_bayes import MultinomialNB, BernoulliNB\n",
    "from sklearn.linear_model import LogisticRegression\n",
    "from sklearn.svm import SVC\n",
    "from sklearn.ensemble import RandomForestClassifier\n",
    "from sklearn.neighbors import KNeighborsClassifier\n",
    "from sklearn.metrics import classification_report, accuracy_score"
   ]
  },
  {
   "cell_type": "code",
   "execution_count": 2,
   "id": "8c9397e5-a762-4465-affd-6079cf634580",
   "metadata": {},
   "outputs": [],
   "source": [
    "df = pd.read_csv('hate_speech_balanced_data.csv')"
   ]
  },
  {
   "cell_type": "code",
   "execution_count": 3,
   "id": "3ed66335-60d0-43b4-aac6-6b22abffae50",
   "metadata": {},
   "outputs": [
    {
     "data": {
      "text/html": [
       "<div>\n",
       "<style scoped>\n",
       "    .dataframe tbody tr th:only-of-type {\n",
       "        vertical-align: middle;\n",
       "    }\n",
       "\n",
       "    .dataframe tbody tr th {\n",
       "        vertical-align: top;\n",
       "    }\n",
       "\n",
       "    .dataframe thead th {\n",
       "        text-align: right;\n",
       "    }\n",
       "</style>\n",
       "<table border=\"1\" class=\"dataframe\">\n",
       "  <thead>\n",
       "    <tr style=\"text-align: right;\">\n",
       "      <th></th>\n",
       "      <th>Unnamed: 0</th>\n",
       "      <th>tweet</th>\n",
       "      <th>class</th>\n",
       "    </tr>\n",
       "  </thead>\n",
       "  <tbody>\n",
       "    <tr>\n",
       "      <th>0</th>\n",
       "      <td>0</td>\n",
       "      <td>i hate when black people try and be white so b...</td>\n",
       "      <td>0</td>\n",
       "    </tr>\n",
       "    <tr>\n",
       "      <th>1</th>\n",
       "      <td>1</td>\n",
       "      <td>eda the queers at aa lol gduenez httptcogzzrzj...</td>\n",
       "      <td>0</td>\n",
       "    </tr>\n",
       "    <tr>\n",
       "      <th>2</th>\n",
       "      <td>2</td>\n",
       "      <td>heauxmersimpson im jus tryna vaca away from th...</td>\n",
       "      <td>0</td>\n",
       "    </tr>\n",
       "    <tr>\n",
       "      <th>3</th>\n",
       "      <td>3</td>\n",
       "      <td>iycmicant get any work done if you keep showin...</td>\n",
       "      <td>1</td>\n",
       "    </tr>\n",
       "    <tr>\n",
       "      <th>4</th>\n",
       "      <td>4</td>\n",
       "      <td>eh bitch how about you worry about your own ps...</td>\n",
       "      <td>0</td>\n",
       "    </tr>\n",
       "  </tbody>\n",
       "</table>\n",
       "</div>"
      ],
      "text/plain": [
       "   Unnamed: 0                                              tweet  class\n",
       "0           0  i hate when black people try and be white so b...      0\n",
       "1           1  eda the queers at aa lol gduenez httptcogzzrzj...      0\n",
       "2           2  heauxmersimpson im jus tryna vaca away from th...      0\n",
       "3           3  iycmicant get any work done if you keep showin...      1\n",
       "4           4  eh bitch how about you worry about your own ps...      0"
      ]
     },
     "execution_count": 3,
     "metadata": {},
     "output_type": "execute_result"
    }
   ],
   "source": [
    "df.head()"
   ]
  },
  {
   "cell_type": "code",
   "execution_count": 4,
   "id": "fd6f9b1c-2435-46e3-8d68-9bc879221178",
   "metadata": {},
   "outputs": [
    {
     "data": {
      "text/html": [
       "<div>\n",
       "<style scoped>\n",
       "    .dataframe tbody tr th:only-of-type {\n",
       "        vertical-align: middle;\n",
       "    }\n",
       "\n",
       "    .dataframe tbody tr th {\n",
       "        vertical-align: top;\n",
       "    }\n",
       "\n",
       "    .dataframe thead th {\n",
       "        text-align: right;\n",
       "    }\n",
       "</style>\n",
       "<table border=\"1\" class=\"dataframe\">\n",
       "  <thead>\n",
       "    <tr style=\"text-align: right;\">\n",
       "      <th></th>\n",
       "      <th>Unnamed: 0</th>\n",
       "      <th>tweet</th>\n",
       "      <th>class</th>\n",
       "    </tr>\n",
       "  </thead>\n",
       "  <tbody>\n",
       "    <tr>\n",
       "      <th>0</th>\n",
       "      <td>0</td>\n",
       "      <td>i hate when black people try and be white so b...</td>\n",
       "      <td>0</td>\n",
       "    </tr>\n",
       "    <tr>\n",
       "      <th>1</th>\n",
       "      <td>1</td>\n",
       "      <td>eda the queers at aa lol gduenez httptcogzzrzj...</td>\n",
       "      <td>0</td>\n",
       "    </tr>\n",
       "    <tr>\n",
       "      <th>2</th>\n",
       "      <td>2</td>\n",
       "      <td>heauxmersimpson im jus tryna vaca away from th...</td>\n",
       "      <td>0</td>\n",
       "    </tr>\n",
       "    <tr>\n",
       "      <th>3</th>\n",
       "      <td>3</td>\n",
       "      <td>iycmicant get any work done if you keep showin...</td>\n",
       "      <td>1</td>\n",
       "    </tr>\n",
       "    <tr>\n",
       "      <th>4</th>\n",
       "      <td>4</td>\n",
       "      <td>eh bitch how about you worry about your own ps...</td>\n",
       "      <td>0</td>\n",
       "    </tr>\n",
       "  </tbody>\n",
       "</table>\n",
       "</div>"
      ],
      "text/plain": [
       "   Unnamed: 0                                              tweet  class\n",
       "0           0  i hate when black people try and be white so b...      0\n",
       "1           1  eda the queers at aa lol gduenez httptcogzzrzj...      0\n",
       "2           2  heauxmersimpson im jus tryna vaca away from th...      0\n",
       "3           3  iycmicant get any work done if you keep showin...      1\n",
       "4           4  eh bitch how about you worry about your own ps...      0"
      ]
     },
     "execution_count": 4,
     "metadata": {},
     "output_type": "execute_result"
    }
   ],
   "source": [
    "df.head()"
   ]
  },
  {
   "cell_type": "code",
   "execution_count": 5,
   "id": "8626a898-9c7e-4e18-b3b2-7f3fbb055f80",
   "metadata": {},
   "outputs": [],
   "source": [
    "df = df.drop('Unnamed: 0', axis = 1)"
   ]
  },
  {
   "cell_type": "code",
   "execution_count": 6,
   "id": "6d5171ac-ace2-4479-9e00-061f559c15d8",
   "metadata": {},
   "outputs": [
    {
     "data": {
      "text/plain": [
       "(57237, 2)"
      ]
     },
     "execution_count": 6,
     "metadata": {},
     "output_type": "execute_result"
    }
   ],
   "source": [
    "df.shape"
   ]
  },
  {
   "cell_type": "code",
   "execution_count": 7,
   "id": "dfa11ff8-4e39-4b96-a4aa-93a3e80142a8",
   "metadata": {},
   "outputs": [
    {
     "data": {
      "text/plain": [
       "Index(['tweet', 'class'], dtype='object')"
      ]
     },
     "execution_count": 7,
     "metadata": {},
     "output_type": "execute_result"
    }
   ],
   "source": [
    "df.columns"
   ]
  },
  {
   "cell_type": "code",
   "execution_count": 8,
   "id": "3760442b-089e-4bbf-9f13-0e70dc602e3b",
   "metadata": {},
   "outputs": [
    {
     "data": {
      "text/plain": [
       "32639"
      ]
     },
     "execution_count": 8,
     "metadata": {},
     "output_type": "execute_result"
    }
   ],
   "source": [
    "df.duplicated().sum()"
   ]
  },
  {
   "cell_type": "code",
   "execution_count": 9,
   "id": "a0354267-66a7-4c18-9a71-271598220da7",
   "metadata": {},
   "outputs": [
    {
     "data": {
      "text/plain": [
       "tweet    0\n",
       "class    0\n",
       "dtype: int64"
      ]
     },
     "execution_count": 9,
     "metadata": {},
     "output_type": "execute_result"
    }
   ],
   "source": [
    "df.isnull().sum()"
   ]
  },
  {
   "cell_type": "code",
   "execution_count": 10,
   "id": "5d9725a2-a8aa-4ad1-a865-04ef7c918716",
   "metadata": {},
   "outputs": [],
   "source": [
    "X_train, X_test, y_train, y_test = train_test_split(df['tweet'], df['class'], test_size=0.2, stratify = df['class'], random_state=42)"
   ]
  },
  {
   "cell_type": "code",
   "execution_count": 11,
   "id": "9952761d-5ddc-4d8c-b370-0b129b09a7eb",
   "metadata": {},
   "outputs": [],
   "source": [
    "vectorizer = TfidfVectorizer(max_features=1000)\n",
    "X_train_vec = vectorizer.fit_transform(X_train)\n",
    "X_test_vec = vectorizer.transform(X_test)"
   ]
  },
  {
   "cell_type": "markdown",
   "id": "89f111e7-d733-44dd-bfd6-527936e4beb1",
   "metadata": {},
   "source": [
    "Let's break down what each part of this code does:\n",
    "\n",
    "### 1. `vectorizer = TfidfVectorizer(max_features=1000)`\n",
    "\n",
    "- **`TfidfVectorizer`**: \n",
    "  - This is a feature extraction method from the `scikit-learn` library, used to convert a collection of raw text documents into a matrix of TF-IDF (Term Frequency-Inverse Document Frequency) features.\n",
    "  - **TF-IDF** is a numerical representation that reflects how important a word is in a document relative to a collection of documents. It combines two statistics:\n",
    "    - **Term Frequency (TF)**: The number of times a word appears in a document, divided by the total number of words in that document.\n",
    "    - **Inverse Document Frequency (IDF)**: The logarithm of the total number of documents divided by the number of documents that contain the word. This helps to reduce the weight of commonly occurring words.\n",
    "  - **`max_features=1000`**:\n",
    "    - This parameter limits the number of features (i.e., words) that the vectorizer will consider to the top 1,000 most important words across the corpus (based on their TF-IDF scores).\n",
    "    - This is often done to reduce dimensionality and remove less important or very rare words that might not contribute significantly to the model.\n",
    "\n",
    "### 2. `X_train_vec = vectorizer.fit_transform(X_train)`\n",
    "\n",
    "- **`fit_transform(X_train)`**:\n",
    "  - **`fit`**: The vectorizer first learns the vocabulary of the training data (`X_train`). It identifies the top 1,000 features (words) that will be used.\n",
    "  - **`transform`**: The text in the training data is then transformed into a matrix of TF-IDF features. Each document (e.g., each tweet) is converted into a vector where each element corresponds to a TF-IDF score of a word.\n",
    "  - The result, `X_train_vec`, is a sparse matrix where rows represent documents (tweets), and columns represent the TF-IDF score of each word in the selected vocabulary.\n",
    "\n",
    "### 3. `X_test_vec = vectorizer.transform(X_test)`\n",
    "\n",
    "- **`transform(X_test)`**:\n",
    "  - Here, the vectorizer transforms the test data (`X_test`) into the same TF-IDF feature space learned from the training data.\n",
    "  - It uses the same vocabulary (top 1,000 words) identified during training and converts each test document into a vector of TF-IDF scores.\n",
    "  - This ensures that the test data is represented in the same feature space as the training data, allowing for consistent model evaluation.\n",
    "\n",
    "### Summary\n",
    "\n",
    "- The `TfidfVectorizer` converts raw text data into numerical feature vectors using the TF-IDF approach, focusing on the most important words (`max_features=1000`).\n",
    "- The `fit_transform(X_train)` method fits the vectorizer to the training data and transforms it into TF-IDF vectors.\n",
    "- The `transform(X_test)` method then converts the test data into TF-IDF vectors using the same vocabulary, ensuring that the model can evaluate the test data consistently.\n",
    "\n",
    "These steps are crucial for preparing text data for machine learning models."
   ]
  },
  {
   "cell_type": "code",
   "execution_count": 12,
   "id": "e6031e8a-b50d-4684-9c29-a73766e418e2",
   "metadata": {},
   "outputs": [],
   "source": [
    "models = {\n",
    "    \"Logistic Regression\": LogisticRegression(),\n",
    "    \"Support Vector Machine\": SVC(),\n",
    "    \"Random Forest\": RandomForestClassifier(),\n",
    "    \"K-Nearest Neighbors\": KNeighborsClassifier(),\n",
    "    \"Multinomial Naive Bayes\": MultinomialNB(),\n",
    "    \"Bernoulli Naive Bayes\": BernoulliNB(),\n",
    "}"
   ]
  },
  {
   "cell_type": "markdown",
   "id": "5cea4a5b-263b-4e9e-baa3-59f2f1693337",
   "metadata": {},
   "source": [
    "for name, model in models.items():\n",
    "    model.fit(X_train_vec, y_train)\n",
    "    y_pred = model.predict(X_test_vec)\n",
    "    print(f\"Model: {name}\")\n",
    "    print(f\"Accuracy: {accuracy_score(y_test, y_pred)}\")\n",
    "    print(classification_report(y_test, y_pred))\n",
    "    print(\"-\" * 60)"
   ]
  },
  {
   "cell_type": "code",
   "execution_count": 14,
   "id": "6bdc31fa-fab4-4234-a2c8-5d0818e759d3",
   "metadata": {},
   "outputs": [
    {
     "name": "stdout",
     "output_type": "stream",
     "text": [
      "Multinomial Naive Bayes Performance:\n",
      "Accuracy: 0.77\n",
      "              precision    recall  f1-score   support\n",
      "\n",
      "           0       0.75      0.70      0.73      3816\n",
      "           1       0.71      0.77      0.74      3816\n",
      "           2       0.85      0.83      0.84      3816\n",
      "\n",
      "    accuracy                           0.77     11448\n",
      "   macro avg       0.77      0.77      0.77     11448\n",
      "weighted avg       0.77      0.77      0.77     11448\n",
      "\n",
      "------------------------------------------------------------\n"
     ]
    }
   ],
   "source": [
    "mnb_model = MultinomialNB()\n",
    "mnb_model.fit(X_train_vec, y_train)\n",
    "y_pred_mnb = mnb_model.predict(X_test_vec)\n",
    "\n",
    "print(\"Multinomial Naive Bayes Performance:\")\n",
    "print(f\"Accuracy: {accuracy_score(y_test, y_pred_mnb):.2f}\")\n",
    "print(classification_report(y_test, y_pred_mnb))\n",
    "print(\"-\" * 60)"
   ]
  },
  {
   "cell_type": "code",
   "execution_count": 16,
   "id": "107804f8-92ed-4e9b-87cb-6dd7e96916fe",
   "metadata": {},
   "outputs": [
    {
     "name": "stdout",
     "output_type": "stream",
     "text": [
      "Bernoulli Naive Bayes Performance:\n",
      "Accuracy: 0.78\n",
      "              precision    recall  f1-score   support\n",
      "\n",
      "           0       0.79      0.67      0.72      3816\n",
      "           1       0.74      0.77      0.76      3816\n",
      "           2       0.81      0.89      0.85      3816\n",
      "\n",
      "    accuracy                           0.78     11448\n",
      "   macro avg       0.78      0.78      0.78     11448\n",
      "weighted avg       0.78      0.78      0.78     11448\n",
      "\n"
     ]
    }
   ],
   "source": [
    "from sklearn.feature_extraction.text import CountVectorizer\n",
    "\n",
    "bernoulli_vectorizer = CountVectorizer(stop_words='english', binary=True, max_features=1000)\n",
    "X_train_binary = bernoulli_vectorizer.fit_transform(X_train)\n",
    "X_test_binary = bernoulli_vectorizer.transform(X_test)\n",
    "\n",
    "bnb_model = BernoulliNB()\n",
    "bnb_model.fit(X_train_binary, y_train)\n",
    "y_pred_bnb = bnb_model.predict(X_test_binary)\n",
    "\n",
    "print(\"Bernoulli Naive Bayes Performance:\")\n",
    "print(f\"Accuracy: {accuracy_score(y_test, y_pred_bnb):.2f}\")\n",
    "print(classification_report(y_test, y_pred_bnb))"
   ]
  },
  {
   "cell_type": "code",
   "execution_count": null,
   "id": "9cd3320d-0313-4c17-a6e2-62ffc593a9b6",
   "metadata": {},
   "outputs": [],
   "source": []
  }
 ],
 "metadata": {
  "kernelspec": {
   "display_name": "Python 3 (ipykernel)",
   "language": "python",
   "name": "python3"
  },
  "language_info": {
   "codemirror_mode": {
    "name": "ipython",
    "version": 3
   },
   "file_extension": ".py",
   "mimetype": "text/x-python",
   "name": "python",
   "nbconvert_exporter": "python",
   "pygments_lexer": "ipython3",
   "version": "3.8.10"
  }
 },
 "nbformat": 4,
 "nbformat_minor": 5
}
